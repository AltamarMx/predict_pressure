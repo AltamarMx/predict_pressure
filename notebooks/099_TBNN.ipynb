{
 "cells": [
  {
   "cell_type": "code",
   "execution_count": 1,
   "id": "4b21c370",
   "metadata": {
    "scrolled": true
   },
   "outputs": [
    {
     "name": "stderr",
     "output_type": "stream",
     "text": [
      "2023-05-24 15:22:50.847448: I tensorflow/core/platform/cpu_feature_guard.cc:193] This TensorFlow binary is optimized with oneAPI Deep Neural Network Library (oneDNN) to use the following CPU instructions in performance-critical operations:  AVX2 FMA\n",
      "To enable them in other operations, rebuild TensorFlow with the appropriate compiler flags.\n"
     ]
    }
   ],
   "source": [
    "import tensorflow as tf\n",
    "from tensorflow import keras"
   ]
  },
  {
   "cell_type": "code",
   "execution_count": null,
   "id": "282b928c",
   "metadata": {},
   "outputs": [],
   "source": []
  },
  {
   "cell_type": "code",
   "execution_count": null,
   "id": "a079a1ff",
   "metadata": {},
   "outputs": [],
   "source": [
    "# Input y TBNN layer\n",
    "input_layer = keras.layers.Input(shape=(input_shape),name=\"input_layer\")\n",
    "input_tensor_basis = keras.layers.Input(shape=(10,3,3),name=\"Tensor_input_layer\")\n",
    "\n",
    "#Hidden layer\n",
    "hidden1 = keras.layers.Dense(20,name=\"Hidden1\",\n",
    "                             kernel_initializer=\"lecun_normal\",\n",
    "                             kernel_regularizer=tf.keras.regularizers.l2(1e-3),\n",
    "                             activation=\"selu\")(input_layer)\n",
    "\n",
    "hidden2 = keras.layers.Dense(20,name=\"Hidden2\",\n",
    "                             kernel_initializer=\"lecun_normal\",\n",
    "                             kernel_regularizer=tf.keras.regularizers.l2(1e-3),\n",
    "                             activation=\"selu\")(hidden1)\n",
    "\n",
    "hidden3 = keras.layers.Dense(20,name=\"Hidden3\",\n",
    "                             kernel_initializer=\"lecun_normal\",\n",
    "                             kernel_regularizer=tf.keras.regularizers.l2(1e-3),\n",
    "                             activation=\"selu\")(hidden2)\n",
    "\n",
    "gn = keras.layers.Dense(10,name=\"gn\",\n",
    "                        kernel_initializer=\"lecun_normal\",\n",
    "                        kernel_regularizer=tf.keras.regularizers.l2(1e-4),\n",
    "                        activation=\"selu\"\n",
    "                       )(hidden3)\n",
    "\n",
    "shaped = keras.layers.Reshape((10,1,1),name=\"Shape_for_dot_product\")(gn)\n",
    "merge  = keras.layers.Dot(axes=1,name=\"Dot_product\")([shaped,input_tensor_basis])\n",
    "\n",
    "shaped_output = keras.layers.Reshape((9,1),name=\"Shaped_output\")(merge)\n",
    "\n",
    "trimmed_output1 = keras.layers.Lambda(lambda x: x[:,0])(shaped_output)\n",
    "trimmed_output2 = keras.layers.Lambda(lambda x: x[:,1])(shaped_output)\n",
    "trimmed_output3 = keras.layers.Lambda(lambda x: x[:,2])(shaped_output)\n",
    "trimmed_output4 = keras.layers.Lambda(lambda x: x[:,4])(shaped_output)\n",
    "trimmed_output5 = keras.layers.Lambda(lambda x: x[:,5])(shaped_output)\n",
    "trimmed_output6 = keras.layers.Lambda(lambda x: x[:,8])(shaped_output)\n",
    "\n",
    "merged_output   = tf.keras.layers.Concatenate()([trimmed_output1,\n",
    "                                             trimmed_output2,\n",
    "                                             trimmed_output3,\n",
    "                                             trimmed_output4,\n",
    "                                             trimmed_output5,\n",
    "                                             trimmed_output6\n",
    "                                            ])\n",
    "\n",
    "model = keras.Model(inputs = [input_layer, input_tensor_basis],outputs=[merged_output])\n",
    "\n",
    "optimizer = tf.keras.optimizers.Nadam(learning_rate=5E-4)\n",
    "\n",
    "model.compile(optimizer,loss=\"mse\",metrics=[\"mea\",\"mse\"])\n",
    "print(model.summary())"
   ]
  },
  {
   "cell_type": "code",
   "execution_count": null,
   "id": "11bf6819",
   "metadata": {},
   "outputs": [],
   "source": [
    "model.fit([x_train,basis_train], y_train,\n",
    "         batch_size=500,\n",
    "         epochs=1000,\n",
    "         validation_data =([x_val,basis_val],y_val),\n",
    "         verbose=1)\n",
    "\n"
   ]
  },
  {
   "cell_type": "code",
   "execution_count": null,
   "id": "9bff254b",
   "metadata": {},
   "outputs": [],
   "source": [
    "model.evaluate([x_train,basis_train],y_train)"
   ]
  },
  {
   "cell_type": "code",
   "execution_count": null,
   "id": "4be8f9c0",
   "metadata": {},
   "outputs": [],
   "source": [
    "model.evaluate([x_val,basis_val],y_val)"
   ]
  },
  {
   "cell_type": "code",
   "execution_count": null,
   "id": "d9f19b65",
   "metadata": {},
   "outputs": [],
   "source": [
    "model.evaluate([x_test,basis_test],y_test)"
   ]
  },
  {
   "cell_type": "code",
   "execution_count": null,
   "id": "2e64af41",
   "metadata": {},
   "outputs": [],
   "source": [
    "data  = (  [x_train,y_train] ,  # entrenan y modifican los pesos de la red\n",
    "           [x_val  ,y_val],     # ajusta hiperparametros\n",
    "           [x_test, y_test]     # prueba final \n",
    "        )"
   ]
  },
  {
   "cell_type": "markdown",
   "id": "598a9a5c",
   "metadata": {},
   "source": [
    "# Report\n",
    "\n",
    "* Introduction\n",
    "* Set strategy for trainning, testing, validation\n",
    "* Strategy for gridsearch\n",
    "* Visualization of validation\n",
    "* Error estimation\n",
    "* Prediction of one case\n",
    "\n",
    "# Trainning and prediction\n",
    "* Data preparation\n",
    "* Model construction\n",
    "* Gridsearch ( 9 elementos) \n",
    "* Model selection\n",
    "* Visualization of best model and comparison with paper\n",
    "\n",
    "# Presentation\n",
    "* 10 minutes presentation on thursday 8th june.\n",
    "\n",
    "# What to deliver\n",
    "* Report maximum 5 pages\n",
    "* Presentation\n",
    "* Space work with notebooks and NO data\n",
    "\n",
    "\n",
    "\n",
    "# Important dates\n",
    "* Mentoring each wednesday at Memo's class.\n",
    "* Presentation on thursday 8th june at Eduardo's class.\n",
    "* Deliver report and notebook on friday 9th at 23:59:59 by classroom CdMx time.\n",
    "\n"
   ]
  },
  {
   "cell_type": "code",
   "execution_count": null,
   "id": "680a2f64",
   "metadata": {},
   "outputs": [],
   "source": []
  },
  {
   "cell_type": "code",
   "execution_count": null,
   "id": "f78961bf",
   "metadata": {},
   "outputs": [],
   "source": []
  }
 ],
 "metadata": {
  "kernelspec": {
   "display_name": "python3.10",
   "language": "python",
   "name": "python3.10"
  },
  "language_info": {
   "codemirror_mode": {
    "name": "ipython",
    "version": 3
   },
   "file_extension": ".py",
   "mimetype": "text/x-python",
   "name": "python",
   "nbconvert_exporter": "python",
   "pygments_lexer": "ipython3",
   "version": "3.10.10"
  }
 },
 "nbformat": 4,
 "nbformat_minor": 5
}
