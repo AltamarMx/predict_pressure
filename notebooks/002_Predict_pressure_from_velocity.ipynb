{
 "cells": [
  {
   "cell_type": "code",
   "execution_count": null,
   "id": "6f602c14",
   "metadata": {},
   "outputs": [],
   "source": [
    "import numpy as np # linear algebra\n",
    "import pandas as pd\n",
    "import matplotlib.pyplot as plt\n",
    "from sklearn import preprocessing\n",
    "import tensorflow as tf\n",
    "from tensorflow import keras"
   ]
  },
  {
   "cell_type": "code",
   "execution_count": null,
   "id": "8a15266b",
   "metadata": {},
   "outputs": [],
   "source": [
    "def loadCombinedArray(cases,field):\n",
    "    data = np.concatenate([np.load('../data/'+dataset+'/'+dataset+'_'+case+'_'+field + '.npy') for case in cases])\n",
    "    return data\n"
   ]
  },
  {
   "cell_type": "code",
   "execution_count": null,
   "id": "3948b4a0",
   "metadata": {},
   "outputs": [],
   "source": [
    "dataset = \"kepsilon\"\n",
    "cases   = [\"PHLL_case_1p0\"]"
   ]
  },
  {
   "cell_type": "code",
   "execution_count": null,
   "id": "290667b4",
   "metadata": {},
   "outputs": [],
   "source": [
    "x  = loadCombinedArray(cases,\"Cx\")\n",
    "y  = loadCombinedArray(cases,\"Cy\")\n",
    "z  = loadCombinedArray(cases,\"Cz\")\n",
    "Ux = loadCombinedArray(cases,\"Ux\")\n",
    "Uy = loadCombinedArray(cases,\"Uy\")\n",
    "Uz = loadCombinedArray(cases,\"Uz\")\n",
    "p  = loadCombinedArray(cases,\"p\")\n"
   ]
  },
  {
   "cell_type": "code",
   "execution_count": null,
   "id": "a4ad8e88",
   "metadata": {},
   "outputs": [],
   "source": [
    "fig, ax = plt.subplots(figsize=(6,2))\n",
    "\n",
    "ax.scatter(x,y,c=\"k\",s=0.01)"
   ]
  },
  {
   "cell_type": "code",
   "execution_count": null,
   "id": "d029964f",
   "metadata": {},
   "outputs": [],
   "source": [
    "fig, ax = plt.subplots(4,figsize=(6,8),sharex=True)\n",
    "\n",
    "ax[0].tricontourf(x,y,Ux,levels=50,cmap=\"jet\")\n",
    "ax[1].tricontourf(x,y,Uy,levels=50,cmap=\"jet\")\n",
    "ax[2].tricontourf(x,y,Uz,levels=50,cmap=\"jet\")\n",
    "ax[3].tricontourf(x,y,p, levels=50,cmap=\"jet\")"
   ]
  },
  {
   "cell_type": "code",
   "execution_count": null,
   "id": "09cb42c6",
   "metadata": {},
   "outputs": [],
   "source": [
    "# get data ready in an array\n",
    "# scale the data\n",
    "# be clear what are the features (X) , and what are target (Y)\n",
    "# X[Ux,Uy,Uz], Y[p]\n",
    "data_combined = np.column_stack((Ux,Uy,Uz,p))\n",
    "df = pd.DataFrame(data=data_combined)\n",
    "df.columns=[\"Ux\",\"Uy\",\"Uz\",\"p\"]\n",
    "print(df.describe())\n",
    "df.hist(bins=30)"
   ]
  },
  {
   "cell_type": "code",
   "execution_count": null,
   "id": "8e225681",
   "metadata": {},
   "outputs": [],
   "source": [
    "df_features = df[[\"Ux\",\"Uy\"]]\n",
    "df_target   = df[\"p\"]\n",
    "\n",
    "scaler_features = preprocessing.MinMaxScaler()\n",
    "scaler_target   = preprocessing.MinMaxScaler()\n",
    "\n",
    "df_features = pd.DataFrame(scaler_features.fit_transform(df_features),\n",
    "                          columns=[\"Ux\",\"Uy\"])\n",
    "df_target = pd.DataFrame(scaler_target.fit_transform(df_target.values.reshape(-1,1)),\n",
    "                          columns=[\"p\"])"
   ]
  },
  {
   "cell_type": "code",
   "execution_count": null,
   "id": "2c31b159",
   "metadata": {},
   "outputs": [],
   "source": [
    "# df_features"
   ]
  },
  {
   "cell_type": "code",
   "execution_count": null,
   "id": "d253740a",
   "metadata": {
    "scrolled": false
   },
   "outputs": [],
   "source": [
    "# Building my NN\n",
    "keras.backend.clear_session()\n",
    "\n",
    "#Ux, Uy\n",
    "input_layer = keras.layers.Input(shape=(2),name=\"input_layer\")\n",
    "\n",
    "#Hidden layers\n",
    "hidden1     = keras.layers.Dense(20,name=\"Hidden1\",kernel_initializer=\"lecun_normal\",\n",
    "                                activation=\"selu\")(input_layer)\n",
    "hidden2 = keras.layers.Dense(20,name='Hidden2', kernel_initializer=\"lecun_normal\", activation = \"selu\")(hidden1)\n",
    "hidden3 = keras.layers.Dense(20,name='Hidden3', kernel_initializer=\"lecun_normal\", activation = \"selu\")(hidden2)\n",
    "hidden4 = keras.layers.Dense(20,name='Hidden4', kernel_initializer=\"lecun_normal\", activation = \"selu\")(hidden3)\n",
    "hidden5 = keras.layers.Dense(20,name='Hidden5', kernel_initializer=\"lecun_normal\", activation = \"selu\")(hidden4)\n",
    "\n",
    "\n",
    "output_layer = keras.layers.Dense(1,name=\"output_layer\")(hidden5)\n",
    "\n",
    "model=keras.Model(inputs=[input_layer], outputs=[output_layer])\n",
    "model.summary()\n"
   ]
  },
  {
   "cell_type": "code",
   "execution_count": null,
   "id": "b3ca9b0a",
   "metadata": {},
   "outputs": [],
   "source": [
    "optimizer = tf.keras.optimizers.Nadam(learning_rate=5e-4)\n",
    "model.compile(optimizer,loss=\"mse\",metrics=[\"mae\",\"mse\"])"
   ]
  },
  {
   "cell_type": "code",
   "execution_count": null,
   "id": "8217d327",
   "metadata": {
    "scrolled": false
   },
   "outputs": [],
   "source": [
    "history = model.fit([df_features],df_target,\n",
    "                    epochs=200,\n",
    "                    verbose= 0,\n",
    ")"
   ]
  },
  {
   "cell_type": "code",
   "execution_count": null,
   "id": "d1925ea2",
   "metadata": {},
   "outputs": [],
   "source": [
    "predictions = model.predict(df_features).reshape(len(df_features))\n",
    "truth = df_target['p']\n",
    "\n",
    "fig = plt.figure(figsize=(12,12))\n",
    "ax1 = fig.add_subplot(211)\n",
    "ax2 = fig.add_subplot(212)\n",
    "\n",
    "ax1.tricontourf(x,y,predictions,levels=50,vmin=0,vmax=1)\n",
    "ax1.set_aspect(1)\n",
    "ax1.set_title('Predictions')\n",
    "ax2.tricontourf(x,y,truth,levels=50,vmin=0,vmax=1)\n",
    "ax2.set_aspect(1)\n",
    "ax2.set_title('Truth')"
   ]
  },
  {
   "cell_type": "code",
   "execution_count": null,
   "id": "82a362a1",
   "metadata": {},
   "outputs": [],
   "source": []
  }
 ],
 "metadata": {
  "kernelspec": {
   "display_name": "Python 3 (ipykernel)",
   "language": "python",
   "name": "python3"
  },
  "language_info": {
   "codemirror_mode": {
    "name": "ipython",
    "version": 3
   },
   "file_extension": ".py",
   "mimetype": "text/x-python",
   "name": "python",
   "nbconvert_exporter": "python",
   "pygments_lexer": "ipython3",
   "version": "3.9.6"
  }
 },
 "nbformat": 4,
 "nbformat_minor": 5
}
