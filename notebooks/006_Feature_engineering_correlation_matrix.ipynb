{
 "cells": [
  {
   "cell_type": "code",
   "execution_count": 1,
   "id": "7e71a1f9",
   "metadata": {},
   "outputs": [],
   "source": [
    "import numpy as np\n",
    "import pandas as pd\n",
    "import matplotlib.pyplot as plt\n",
    "\n",
    "import glob as glob"
   ]
  },
  {
   "cell_type": "code",
   "execution_count": 2,
   "id": "1c6eb042",
   "metadata": {},
   "outputs": [],
   "source": [
    "variables = glob.glob(\"../data/kepsilon/kepsilon_PHLL_case_1p0*\")\n",
    "\n",
    "\n",
    "vars_1d = [(variable[40:-4],variable,np.load(variable).shape)for variable in variables if np.load(variable).shape==(14751,)]\n",
    "vars_Nd = [(variable[40:-4],variable,np.load(variable).shape)for variable in variables if np.load(variable).shape!=(14751,)]"
   ]
  },
  {
   "cell_type": "code",
   "execution_count": 3,
   "id": "2a4c6734",
   "metadata": {},
   "outputs": [
    {
     "data": {
      "text/plain": [
       "'../data/kepsilon/kepsilon_PHLL_case_1p0_gradky.npy'"
      ]
     },
     "execution_count": 3,
     "metadata": {},
     "output_type": "execute_result"
    }
   ],
   "source": [
    "vars_1d[0][1]"
   ]
  },
  {
   "cell_type": "code",
   "execution_count": 4,
   "id": "495a3bc0",
   "metadata": {},
   "outputs": [
    {
     "data": {
      "text/plain": [
       "[('Ak', '../data/kepsilon/kepsilon_PHLL_case_1p0_Ak.npy', (14751, 3, 3)),\n",
       " ('nu', '../data/kepsilon/kepsilon_PHLL_case_1p0_nu.npy', ()),\n",
       " ('gradU', '../data/kepsilon/kepsilon_PHLL_case_1p0_gradU.npy', (14751, 3, 3)),\n",
       " ('I2', '../data/kepsilon/kepsilon_PHLL_case_1p0_I2.npy', (14751, 47)),\n",
       " ('Akhat', '../data/kepsilon/kepsilon_PHLL_case_1p0_Akhat.npy', (14751, 3, 3)),\n",
       " ('Shat', '../data/kepsilon/kepsilon_PHLL_case_1p0_Shat.npy', (14751, 3, 3)),\n",
       " ('I1', '../data/kepsilon/kepsilon_PHLL_case_1p0_I1.npy', (14751, 47)),\n",
       " ('q', '../data/kepsilon/kepsilon_PHLL_case_1p0_q.npy', (14751, 4)),\n",
       " ('S', '../data/kepsilon/kepsilon_PHLL_case_1p0_S.npy', (14751, 3, 3)),\n",
       " ('Lambda', '../data/kepsilon/kepsilon_PHLL_case_1p0_Lambda.npy', (14751, 5)),\n",
       " ('R', '../data/kepsilon/kepsilon_PHLL_case_1p0_R.npy', (14751, 3, 3)),\n",
       " ('Aphat', '../data/kepsilon/kepsilon_PHLL_case_1p0_Aphat.npy', (14751, 3, 3)),\n",
       " ('Tensors',\n",
       "  '../data/kepsilon/kepsilon_PHLL_case_1p0_Tensors.npy',\n",
       "  (14751, 10, 3, 3)),\n",
       " ('Rhat', '../data/kepsilon/kepsilon_PHLL_case_1p0_Rhat.npy', (14751, 3, 3)),\n",
       " ('Ap', '../data/kepsilon/kepsilon_PHLL_case_1p0_Ap.npy', (14751, 3, 3))]"
      ]
     },
     "execution_count": 4,
     "metadata": {},
     "output_type": "execute_result"
    }
   ],
   "source": [
    "vars_Nd"
   ]
  },
  {
   "cell_type": "code",
   "execution_count": 5,
   "id": "a9f3b2e2",
   "metadata": {},
   "outputs": [
    {
     "data": {
      "text/plain": [
       "(3, 4)"
      ]
     },
     "execution_count": 5,
     "metadata": {},
     "output_type": "execute_result"
    }
   ],
   "source": [
    "m = np.array([\n",
    "    [1,2,3,4],\n",
    "    [4,5,6,4],\n",
    "    [7,8,9,4]]\n",
    ")\n",
    "m.shape"
   ]
  },
  {
   "cell_type": "code",
   "execution_count": 6,
   "id": "133cc0ab",
   "metadata": {},
   "outputs": [
    {
     "data": {
      "text/plain": [
       "-0.00119409"
      ]
     },
     "execution_count": 6,
     "metadata": {},
     "output_type": "execute_result"
    }
   ],
   "source": [
    "tmp = np.load('../data/kepsilon/kepsilon_PHLL_case_1p0_gradky.npy')\n",
    "tmp.shape\n",
    "tmp[0]"
   ]
  },
  {
   "cell_type": "code",
   "execution_count": 7,
   "id": "6796ba28",
   "metadata": {
    "scrolled": true
   },
   "outputs": [
    {
     "data": {
      "text/plain": [
       "array([[ 0.00000e+00, -0.00000e+00, -1.19409e-03],\n",
       "       [ 0.00000e+00,  0.00000e+00, -8.57850e-08],\n",
       "       [ 1.19409e-03,  8.57850e-08,  0.00000e+00]])"
      ]
     },
     "execution_count": 7,
     "metadata": {},
     "output_type": "execute_result"
    }
   ],
   "source": [
    "tmp2 = np.load('../data/kepsilon/kepsilon_PHLL_case_1p0_Ak.npy')\n",
    "tmp2.shape\n",
    "tmp2[0]"
   ]
  },
  {
   "cell_type": "code",
   "execution_count": 8,
   "id": "2e59f95f",
   "metadata": {
    "scrolled": false
   },
   "outputs": [
    {
     "data": {
      "text/plain": [
       "(14751, 10, 3, 3)"
      ]
     },
     "execution_count": 8,
     "metadata": {},
     "output_type": "execute_result"
    }
   ],
   "source": [
    "tmp3 = np.load('../data/kepsilon/kepsilon_PHLL_case_1p0_Tensors.npy')\n",
    "tmp3.shape\n",
    "# tmp3[0]"
   ]
  },
  {
   "cell_type": "code",
   "execution_count": 9,
   "id": "5dd33c72",
   "metadata": {},
   "outputs": [
    {
     "data": {
      "text/plain": [
       "array([[ 1.54473e-05, -1.31819e+00,  0.00000e+00],\n",
       "       [-1.12249e-06, -9.07023e-05,  0.00000e+00],\n",
       "       [-5.07606e-24,  3.34889e-21,  0.00000e+00]])"
      ]
     },
     "execution_count": 9,
     "metadata": {},
     "output_type": "execute_result"
    }
   ],
   "source": [
    "tmp4 = np.load('../data/kepsilon/kepsilon_PHLL_case_1p0_gradU.npy')\n",
    "tmp4.shape\n",
    "tmp4[0]"
   ]
  }
 ],
 "metadata": {
  "kernelspec": {
   "display_name": "Python 3 (ipykernel)",
   "language": "python",
   "name": "python3"
  },
  "language_info": {
   "codemirror_mode": {
    "name": "ipython",
    "version": 3
   },
   "file_extension": ".py",
   "mimetype": "text/x-python",
   "name": "python",
   "nbconvert_exporter": "python",
   "pygments_lexer": "ipython3",
   "version": "3.9.6"
  }
 },
 "nbformat": 4,
 "nbformat_minor": 5
}
