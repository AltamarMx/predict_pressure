{
 "cells": [
  {
   "cell_type": "code",
   "execution_count": null,
   "id": "6c6d2949",
   "metadata": {},
   "outputs": [],
   "source": [
    "import numpy as np\n",
    "import pandas as pd\n",
    "import matplotlib.pyplot as plt\n",
    "import glob as glob\n",
    "from itertools import chain"
   ]
  },
  {
   "cell_type": "code",
   "execution_count": null,
   "id": "7774a11f",
   "metadata": {},
   "outputs": [],
   "source": [
    "def desde3x3(file):\n",
    "    a = np.load(file)\n",
    "    a_00 = a[:,0,0]\n",
    "    a_01 = a[:,0,1]\n",
    "    a_02 = a[:,0,2]\n",
    "    a_10 = a[:,1,0]\n",
    "    a_11 = a[:,1,1]\n",
    "    a_12 = a[:,1,2]\n",
    "    a_20 = a[:,2,0]\n",
    "    a_21 = a[:,2,1]\n",
    "    a_22 = a[:,2,2]\n",
    "    result = np.column_stack((a_00,a_01,a_02,a_10,a_11,a_12,a_20,a_21,a_22))\n",
    "    return result\n",
    "    \n",
    "def desde3x3_name(m):\n",
    "    nombre = []\n",
    "    for i in range(3):\n",
    "        for j in range(3):\n",
    "            nombre.append(m[0]+\"_\"+str(i)+str(j))\n",
    "    return nombre\n",
    "    "
   ]
  },
  {
   "cell_type": "code",
   "execution_count": null,
   "id": "2876f2ff",
   "metadata": {},
   "outputs": [],
   "source": [
    "# nombres  = [var[0] for var in vars_1d]\n",
    "# archivos = [var[1] for var in vars_1d]\n",
    "# m1d = pd.DataFrame(np.column_stack([np.load(archivo) for archivo in archivos]),columns=nombres)"
   ]
  },
  {
   "cell_type": "code",
   "execution_count": null,
   "id": "d6b52716",
   "metadata": {
    "scrolled": true
   },
   "outputs": [],
   "source": [
    "variables = glob.glob(\"../data/kepsilon/kepsilon_PHLL_case_1p0*\")\n",
    "\n",
    "vars_1d =  [(var[40:-4],var,np.load(var).shape) for var in variables if np.load(var).shape==(14751,) ]\n",
    "m3x3    =  [(var[40:-4],var,np.load(var).shape) for var in variables if np.load(var).shape==(14751,3,3)]\n",
    "nombres = list(chain.from_iterable([desde3x3_name(m) for m in m3x3]))\n",
    "m3x3 = np.column_stack([desde3x3(m[1]) for m in m3x3])\n",
    "m3x3 = pd.DataFrame(m3x3,columns=nombres)\n",
    "m3x3"
   ]
  },
  {
   "cell_type": "code",
   "execution_count": null,
   "id": "73dc34ec",
   "metadata": {},
   "outputs": [],
   "source": [
    "data = pd.concat([m1d,m3x3],axis=1)\n",
    "del data[\"Cx\"]\n",
    "del data[\"Cy\"]\n",
    "del data[\"Cz\"]\n",
    "del data[\"gradpy\"]\n",
    "del data[\"gradpx\"]\n",
    "del data[\"gradpz\"]"
   ]
  },
  {
   "cell_type": "code",
   "execution_count": null,
   "id": "ee859d12",
   "metadata": {},
   "outputs": [],
   "source": [
    "data.columns"
   ]
  },
  {
   "cell_type": "code",
   "execution_count": null,
   "id": "3341a17e",
   "metadata": {},
   "outputs": [],
   "source": [
    "# Pearson\n",
    "matrix = data.corr(method=\"pearson\")"
   ]
  },
  {
   "cell_type": "code",
   "execution_count": null,
   "id": "dd2d8115",
   "metadata": {},
   "outputs": [],
   "source": [
    "matrix['p']"
   ]
  },
  {
   "cell_type": "code",
   "execution_count": null,
   "id": "2461ab97",
   "metadata": {},
   "outputs": [],
   "source": []
  }
 ],
 "metadata": {
  "kernelspec": {
   "display_name": "Python 3 (ipykernel)",
   "language": "python",
   "name": "python3"
  },
  "language_info": {
   "codemirror_mode": {
    "name": "ipython",
    "version": 3
   },
   "file_extension": ".py",
   "mimetype": "text/x-python",
   "name": "python",
   "nbconvert_exporter": "python",
   "pygments_lexer": "ipython3",
   "version": "3.9.6"
  }
 },
 "nbformat": 4,
 "nbformat_minor": 5
}
