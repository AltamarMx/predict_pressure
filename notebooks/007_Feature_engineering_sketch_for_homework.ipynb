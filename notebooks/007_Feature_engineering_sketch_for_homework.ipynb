{
 "cells": [
  {
   "cell_type": "code",
   "execution_count": 1,
   "id": "7e71a1f9",
   "metadata": {
    "scrolled": true
   },
   "outputs": [
    {
     "ename": "ImportError",
     "evalue": "cannot import name 'partition' from 'itertools' (unknown location)",
     "output_type": "error",
     "traceback": [
      "\u001b[0;31m---------------------------------------------------------------------------\u001b[0m",
      "\u001b[0;31mImportError\u001b[0m                               Traceback (most recent call last)",
      "Cell \u001b[0;32mIn [1], line 4\u001b[0m\n\u001b[1;32m      2\u001b[0m \u001b[38;5;28;01mimport\u001b[39;00m \u001b[38;5;21;01mpandas\u001b[39;00m \u001b[38;5;28;01mas\u001b[39;00m \u001b[38;5;21;01mpd\u001b[39;00m\n\u001b[1;32m      3\u001b[0m \u001b[38;5;28;01mimport\u001b[39;00m \u001b[38;5;21;01mmatplotlib\u001b[39;00m\u001b[38;5;21;01m.\u001b[39;00m\u001b[38;5;21;01mpyplot\u001b[39;00m \u001b[38;5;28;01mas\u001b[39;00m \u001b[38;5;21;01mplt\u001b[39;00m\n\u001b[0;32m----> 4\u001b[0m \u001b[38;5;28;01mfrom\u001b[39;00m \u001b[38;5;21;01mitertools\u001b[39;00m \u001b[38;5;28;01mimport\u001b[39;00m partition\n\u001b[1;32m      7\u001b[0m \u001b[38;5;28;01mimport\u001b[39;00m \u001b[38;5;21;01mglob\u001b[39;00m \u001b[38;5;28;01mas\u001b[39;00m \u001b[38;5;21;01mglob\u001b[39;00m\n",
      "\u001b[0;31mImportError\u001b[0m: cannot import name 'partition' from 'itertools' (unknown location)"
     ]
    }
   ],
   "source": [
    "import numpy as np\n",
    "import pandas as pd\n",
    "import matplotlib.pyplot as plt\n",
    "from itertools import partition\n",
    "\n",
    "\n",
    "import glob as glob"
   ]
  },
  {
   "cell_type": "code",
   "execution_count": 3,
   "id": "03a3833c",
   "metadata": {},
   "outputs": [
    {
     "name": "stdout",
     "output_type": "stream",
     "text": [
      "3.9.6 (v3.9.6:db3ff76da1, Jun 28 2021, 11:49:53) \n",
      "[Clang 6.0 (clang-600.0.57)]\n"
     ]
    }
   ],
   "source": [
    "import sys\n",
    "print(sys.version)\n"
   ]
  },
  {
   "cell_type": "code",
   "execution_count": 2,
   "id": "1c6eb042",
   "metadata": {},
   "outputs": [],
   "source": [
    "variables = glob.glob(\"../data/kepsilon/kepsilon_PHLL_case_1p0*\")\n",
    "\n",
    "\n",
    "vars_1d = [(variable[40:-4],variable,np.load(variable).shape)for variable in variables if np.load(variable).shape==(14751,)]\n",
    "vars_Nd = [(variable[40:-4],variable,np.load(variable).shape)for variable in variables if np.load(variable).shape!=(14751,)]"
   ]
  },
  {
   "cell_type": "code",
   "execution_count": 3,
   "id": "495a3bc0",
   "metadata": {},
   "outputs": [
    {
     "data": {
      "text/plain": [
       "[('Ak', '../data/kepsilon/kepsilon_PHLL_case_1p0_Ak.npy', (14751, 3, 3)),\n",
       " ('nu', '../data/kepsilon/kepsilon_PHLL_case_1p0_nu.npy', ()),\n",
       " ('gradU', '../data/kepsilon/kepsilon_PHLL_case_1p0_gradU.npy', (14751, 3, 3)),\n",
       " ('I2', '../data/kepsilon/kepsilon_PHLL_case_1p0_I2.npy', (14751, 47)),\n",
       " ('Akhat', '../data/kepsilon/kepsilon_PHLL_case_1p0_Akhat.npy', (14751, 3, 3)),\n",
       " ('Shat', '../data/kepsilon/kepsilon_PHLL_case_1p0_Shat.npy', (14751, 3, 3)),\n",
       " ('I1', '../data/kepsilon/kepsilon_PHLL_case_1p0_I1.npy', (14751, 47)),\n",
       " ('q', '../data/kepsilon/kepsilon_PHLL_case_1p0_q.npy', (14751, 4)),\n",
       " ('S', '../data/kepsilon/kepsilon_PHLL_case_1p0_S.npy', (14751, 3, 3)),\n",
       " ('Lambda', '../data/kepsilon/kepsilon_PHLL_case_1p0_Lambda.npy', (14751, 5)),\n",
       " ('R', '../data/kepsilon/kepsilon_PHLL_case_1p0_R.npy', (14751, 3, 3)),\n",
       " ('Aphat', '../data/kepsilon/kepsilon_PHLL_case_1p0_Aphat.npy', (14751, 3, 3)),\n",
       " ('Tensors',\n",
       "  '../data/kepsilon/kepsilon_PHLL_case_1p0_Tensors.npy',\n",
       "  (14751, 10, 3, 3)),\n",
       " ('Rhat', '../data/kepsilon/kepsilon_PHLL_case_1p0_Rhat.npy', (14751, 3, 3)),\n",
       " ('Ap', '../data/kepsilon/kepsilon_PHLL_case_1p0_Ap.npy', (14751, 3, 3))]"
      ]
     },
     "execution_count": 3,
     "metadata": {},
     "output_type": "execute_result"
    }
   ],
   "source": [
    "vars_Nd"
   ]
  },
  {
   "cell_type": "code",
   "execution_count": 6,
   "id": "5dd33c72",
   "metadata": {},
   "outputs": [
    {
     "data": {
      "text/plain": [
       "(14751, 3, 3)"
      ]
     },
     "execution_count": 6,
     "metadata": {},
     "output_type": "execute_result"
    }
   ],
   "source": [
    "# 'Ak'\n",
    "tmp = np.load(vars_Nd[0][1])\n",
    "tmp.shape\n"
   ]
  },
  {
   "cell_type": "markdown",
   "id": "66dc73d0",
   "metadata": {},
   "source": [
    "```python\n",
    "ak = [\n",
    "names = F1,F2,F3,F4,F5,F6,...,F9\n",
    "        11,12,13,14,15,16\n",
    "        21,22,23,24,25,26\n",
    "        .\n",
    "        .\n",
    "        .\n",
    "     14751_1,14751_2,...,  \n",
    "    \n",
    "]\n",
    "```"
   ]
  },
  {
   "cell_type": "code",
   "execution_count": null,
   "id": "a427a593",
   "metadata": {},
   "outputs": [],
   "source": []
  }
 ],
 "metadata": {
  "kernelspec": {
   "display_name": "Python 3 (ipykernel)",
   "language": "python",
   "name": "python3"
  },
  "language_info": {
   "codemirror_mode": {
    "name": "ipython",
    "version": 3
   },
   "file_extension": ".py",
   "mimetype": "text/x-python",
   "name": "python",
   "nbconvert_exporter": "python",
   "pygments_lexer": "ipython3",
   "version": "3.9.6"
  }
 },
 "nbformat": 4,
 "nbformat_minor": 5
}
