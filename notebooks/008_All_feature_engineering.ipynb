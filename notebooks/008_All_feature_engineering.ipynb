{
 "cells": [
  {
   "cell_type": "code",
   "execution_count": 1,
   "id": "7e71a1f9",
   "metadata": {},
   "outputs": [
    {
     "name": "stderr",
     "output_type": "stream",
     "text": [
      "2023-05-15 12:43:07.392475: I tensorflow/core/platform/cpu_feature_guard.cc:182] This TensorFlow binary is optimized to use available CPU instructions in performance-critical operations.\n",
      "To enable the following instructions: AVX2 FMA, in other operations, rebuild TensorFlow with the appropriate compiler flags.\n"
     ]
    }
   ],
   "source": [
    "import numpy as np\n",
    "import pandas as pd\n",
    "import matplotlib.pyplot as plt\n",
    "from itertools import chain\n",
    "from sklearn import preprocessing\n",
    "\n",
    "import tensorflow as tf\n",
    "from tensorflow import keras\n",
    "\n",
    "\n",
    "import glob as glob"
   ]
  },
  {
   "cell_type": "code",
   "execution_count": 2,
   "id": "0dd5291a",
   "metadata": {},
   "outputs": [],
   "source": [
    "def filtra(lista):\n",
    "    m3x3 = []\n",
    "    mNxN = []\n",
    "    for var in lista:\n",
    "        if var[2]==(14751,3,3):\n",
    "            m3x3.append(var)\n",
    "        else:\n",
    "            mNxN.append(var)\n",
    "    return m3x3,mNxN\n",
    "\n",
    "def desde3x3(m):\n",
    "    a = np.load(m)\n",
    "    a_00 = a[:, 0, 0]\n",
    "    a_01 = a[:, 0, 1]\n",
    "    a_02 = a[:, 0, 2]\n",
    "    a_10 = a[:, 1, 0]\n",
    "    a_11 = a[:, 1, 1]\n",
    "    a_12 = a[:, 1, 2]\n",
    "    a_20 = a[:, 2, 0]\n",
    "    a_21 = a[:, 2, 1]\n",
    "    a_22 = a[:, 2, 2]\n",
    "    resultado = np.column_stack((a_00, a_01, a_02, a_10, a_11, a_12, a_20, a_21, a_22))    \n",
    "    return resultado\n",
    "\n",
    "\n",
    "def desde3x3_nombre(m):\n",
    "    nombre = []\n",
    "    for i in range(3):\n",
    "        for j in range(3):\n",
    "            nombre.append(m[0]+\"_\"+str(i)+str(j))\n",
    "    return nombre"
   ]
  },
  {
   "cell_type": "code",
   "execution_count": 3,
   "id": "1c6eb042",
   "metadata": {},
   "outputs": [],
   "source": [
    "variables = glob.glob(\"../data/kepsilon/kepsilon_PHLL_case_1p0*\")\n",
    "\n",
    "\n",
    "vars_1d  = [(variable[40:-4],variable,np.load(variable).shape)for variable in variables if np.load(variable).shape==(14751,)]\n",
    "vars_Nd = [(variable[40:-4],variable,np.load(variable).shape)for variable in variables if np.load(variable).shape!=(14751,)]\n",
    "\n",
    "m3x3,mNxN = filtra(vars_Nd)\n"
   ]
  },
  {
   "cell_type": "code",
   "execution_count": 4,
   "id": "b2dcaaf2",
   "metadata": {},
   "outputs": [],
   "source": [
    "nombres= list(chain.from_iterable([desde3x3_nombre(m) for m in m3x3]))\n",
    "m3x3 = np.column_stack([desde3x3(m[1]) for m in m3x3])\n",
    "m3x3 = pd.DataFrame(m3x3,columns=nombres)\n"
   ]
  },
  {
   "cell_type": "code",
   "execution_count": 5,
   "id": "5dd33c72",
   "metadata": {},
   "outputs": [],
   "source": [
    "nombres   = [var[0] for var in vars_1d]\n",
    "archivos = [var[1] for var in vars_1d]\n",
    "\n",
    "m1d = pd.DataFrame(np.column_stack([np.load(archivo) for archivo in archivos]),columns=nombres)"
   ]
  },
  {
   "cell_type": "code",
   "execution_count": 6,
   "id": "c028b8ab",
   "metadata": {},
   "outputs": [],
   "source": [
    "data = pd.concat([m1d,m3x3],axis=1)\n",
    "del data[\"Cx\"]\n",
    "del data[\"Cy\"]\n",
    "del data[\"Cz\"]\n",
    "del data[\"gradpy\"]\n",
    "del data[\"gradpx\"]\n",
    "del data[\"gradpz\"]\n",
    "\n",
    "# data.info()"
   ]
  },
  {
   "cell_type": "code",
   "execution_count": 7,
   "id": "b4756819",
   "metadata": {},
   "outputs": [
    {
     "data": {
      "text/plain": [
       "Index(['gradky', 'Ux', 'Uy', 'gradkx', 'gradkz', 'Uz', 'wallDistance', 'T_t',\n",
       "       'epsilon', 'k', 'p', 'T_k', 'DUDty', 'DUDtx', 'DUDtz', 'Ak_00', 'Ak_01',\n",
       "       'Ak_02', 'Ak_10', 'Ak_11', 'Ak_12', 'Ak_20', 'Ak_21', 'Ak_22',\n",
       "       'gradU_00', 'gradU_01', 'gradU_02', 'gradU_10', 'gradU_11', 'gradU_12',\n",
       "       'gradU_20', 'gradU_21', 'gradU_22', 'Akhat_00', 'Akhat_01', 'Akhat_02',\n",
       "       'Akhat_10', 'Akhat_11', 'Akhat_12', 'Akhat_20', 'Akhat_21', 'Akhat_22',\n",
       "       'Shat_00', 'Shat_01', 'Shat_02', 'Shat_10', 'Shat_11', 'Shat_12',\n",
       "       'Shat_20', 'Shat_21', 'Shat_22', 'S_00', 'S_01', 'S_02', 'S_10', 'S_11',\n",
       "       'S_12', 'S_20', 'S_21', 'S_22', 'R_00', 'R_01', 'R_02', 'R_10', 'R_11',\n",
       "       'R_12', 'R_20', 'R_21', 'R_22', 'Aphat_00', 'Aphat_01', 'Aphat_02',\n",
       "       'Aphat_10', 'Aphat_11', 'Aphat_12', 'Aphat_20', 'Aphat_21', 'Aphat_22',\n",
       "       'Rhat_00', 'Rhat_01', 'Rhat_02', 'Rhat_10', 'Rhat_11', 'Rhat_12',\n",
       "       'Rhat_20', 'Rhat_21', 'Rhat_22', 'Ap_00', 'Ap_01', 'Ap_02', 'Ap_10',\n",
       "       'Ap_11', 'Ap_12', 'Ap_20', 'Ap_21', 'Ap_22'],\n",
       "      dtype='object')"
      ]
     },
     "execution_count": 7,
     "metadata": {},
     "output_type": "execute_result"
    }
   ],
   "source": [
    "data.columns"
   ]
  },
  {
   "cell_type": "code",
   "execution_count": 8,
   "id": "fab4d7b0",
   "metadata": {},
   "outputs": [
    {
     "data": {
      "text/plain": [
       "['DUDty', 'Ap_20', 'Akhat_12', 'Ap_02', 'epsilon', 'Ux']"
      ]
     },
     "execution_count": 8,
     "metadata": {},
     "output_type": "execute_result"
    }
   ],
   "source": [
    "# Pearson\n",
    "matrix = data.corr()\n",
    "\n",
    "pos = matrix['p'].nlargest(4)[1:].index\n",
    "\n",
    "neg = matrix['p'].nsmallest(3).index\n",
    "features_P = list(pos) + list(neg)\n",
    "\n",
    "features_P"
   ]
  },
  {
   "cell_type": "code",
   "execution_count": 10,
   "id": "bd620bf9",
   "metadata": {},
   "outputs": [
    {
     "data": {
      "text/plain": [
       "(['DUDty',\n",
       "  'Ap_20',\n",
       "  'Akhat_12',\n",
       "  'Shat_01',\n",
       "  'Shat_10',\n",
       "  'T_k',\n",
       "  'Akhat_02',\n",
       "  'T_t',\n",
       "  'Shat_11',\n",
       "  'DUDtx',\n",
       "  'Ap_02',\n",
       "  'epsilon',\n",
       "  'Ux',\n",
       "  'Akhat_21',\n",
       "  'k',\n",
       "  'Akhat_20',\n",
       "  'Shat_00',\n",
       "  'R_01',\n",
       "  'gradU_01',\n",
       "  'gradky'],\n",
       " 20)"
      ]
     },
     "execution_count": 10,
     "metadata": {},
     "output_type": "execute_result"
    }
   ],
   "source": [
    "# Pearson 8\n",
    "matrix = data.corr()\n",
    "\n",
    "pos = matrix['p'].nlargest(11)[1:].index\n",
    "\n",
    "neg = matrix['p'].nsmallest(10).index\n",
    "features_P20 = list(pos) + list(neg)\n",
    "\n",
    "features_P20,len(features_P20)"
   ]
  },
  {
   "cell_type": "code",
   "execution_count": 11,
   "id": "e9d2b472",
   "metadata": {},
   "outputs": [
    {
     "data": {
      "text/plain": [
       "['gradU_10', 'DUDty', 'Ap_20', 'Ap_02', 'Aphat_02', 'Ux']"
      ]
     },
     "execution_count": 11,
     "metadata": {},
     "output_type": "execute_result"
    }
   ],
   "source": [
    "# Kendall\n",
    "matrix = data.corr(method=\"kendall\")\n",
    "\n",
    "pos = matrix['p'].nlargest(4)[1:].index\n",
    "\n",
    "neg = matrix['p'].nsmallest(3).index\n",
    "features_K = list(pos) + list(neg)\n",
    "\n",
    "features_K"
   ]
  },
  {
   "cell_type": "code",
   "execution_count": 12,
   "id": "f84c7597",
   "metadata": {
    "scrolled": true
   },
   "outputs": [
    {
     "data": {
      "text/plain": [
       "['gradU_10', 'DUDty', 'Ap_20', 'Ap_02', 'Aphat_02', 'Ux']"
      ]
     },
     "execution_count": 12,
     "metadata": {},
     "output_type": "execute_result"
    }
   ],
   "source": [
    "# Spearman\n",
    "matrix = data.corr(method=\"spearman\")\n",
    "\n",
    "pos = matrix['p'].nlargest(4)[1:].index\n",
    "\n",
    "neg = matrix['p'].nsmallest(3).index\n",
    "features_S = list(pos) + list(neg)\n",
    "\n",
    "features_S"
   ]
  },
  {
   "cell_type": "code",
   "execution_count": 13,
   "id": "aa4ec43c",
   "metadata": {
    "scrolled": false
   },
   "outputs": [
    {
     "name": "stdout",
     "output_type": "stream",
     "text": [
      "Model: \"model\"\n",
      "_________________________________________________________________\n",
      " Layer (type)                Output Shape              Param #   \n",
      "=================================================================\n",
      " input_layer (InputLayer)    [(None, 6)]               0         \n",
      "                                                                 \n",
      " Hidden1 (Dense)             (None, 20)                140       \n",
      "                                                                 \n",
      " Hidden2 (Dense)             (None, 20)                420       \n",
      "                                                                 \n",
      " Hidden3 (Dense)             (None, 20)                420       \n",
      "                                                                 \n",
      " Hidden4 (Dense)             (None, 20)                420       \n",
      "                                                                 \n",
      " Hidden5 (Dense)             (None, 20)                420       \n",
      "                                                                 \n",
      " output_layer (Dense)        (None, 1)                 21        \n",
      "                                                                 \n",
      "=================================================================\n",
      "Total params: 1,841\n",
      "Trainable params: 1,841\n",
      "Non-trainable params: 0\n",
      "_________________________________________________________________\n",
      "461/461 [==============================] - 1s 1ms/step\n",
      "1.481376635704243 31.89992782991983\n"
     ]
    }
   ],
   "source": [
    "\n",
    "df_features = data[features_P]\n",
    "df_target   = data[\"p\"]\n",
    "\n",
    "scaler_features = preprocessing.MinMaxScaler()\n",
    "scaler_target   = preprocessing.MinMaxScaler()\n",
    "\n",
    "df_features = pd.DataFrame(scaler_features.fit_transform(df_features),\n",
    "                          columns=features_P)\n",
    "df_target = pd.DataFrame(scaler_target.fit_transform(df_target.values.reshape(-1,1)),\n",
    "                          columns=[\"p\"])\n",
    "\n",
    "\n",
    "# Building my NN\n",
    "keras.backend.clear_session()\n",
    "\n",
    "#Ux, Uy\n",
    "input_layer = keras.layers.Input(shape=(6),name=\"input_layer\")\n",
    "\n",
    "#Hidden layers\n",
    "hidden1     = keras.layers.Dense(20,name=\"Hidden1\",kernel_initializer=\"lecun_normal\",\n",
    "                                activation=\"selu\")(input_layer)\n",
    "hidden2 = keras.layers.Dense(20,name='Hidden2', kernel_initializer=\"lecun_normal\", activation = \"selu\")(hidden1)\n",
    "hidden3 = keras.layers.Dense(20,name='Hidden3', kernel_initializer=\"lecun_normal\", activation = \"selu\")(hidden2)\n",
    "hidden4 = keras.layers.Dense(20,name='Hidden4', kernel_initializer=\"lecun_normal\", activation = \"selu\")(hidden3)\n",
    "hidden5 = keras.layers.Dense(20,name='Hidden5', kernel_initializer=\"lecun_normal\", activation = \"selu\")(hidden4)\n",
    "\n",
    "\n",
    "output_layer = keras.layers.Dense(1,name=\"output_layer\")(hidden5)\n",
    "\n",
    "model=keras.Model(inputs=[input_layer], outputs=[output_layer])\n",
    "model.summary()\n",
    "# \n",
    "optimizer = tf.keras.optimizers.Nadam(learning_rate=5e-4)\n",
    "model.compile(optimizer,loss=\"mse\",metrics=[\"mae\",\"mse\"])\n",
    "# \n",
    "history = model.fit([df_features],df_target,\n",
    "                    epochs=200,\n",
    "                    verbose= 0,\n",
    ")\n",
    "\n",
    "\n",
    "predictions = model.predict(df_features).reshape(len(df_features))\n",
    "truth = df_target['p']\n",
    "\n",
    "\n",
    "print(abs(predictions-truth).mean()*100, abs(predictions-truth).max()*100)\n",
    "\n"
   ]
  },
  {
   "cell_type": "code",
   "execution_count": 14,
   "id": "2274876d",
   "metadata": {
    "scrolled": false
   },
   "outputs": [
    {
     "name": "stdout",
     "output_type": "stream",
     "text": [
      "Model: \"model\"\n",
      "_________________________________________________________________\n",
      " Layer (type)                Output Shape              Param #   \n",
      "=================================================================\n",
      " input_layer (InputLayer)    [(None, 6)]               0         \n",
      "                                                                 \n",
      " Hidden1 (Dense)             (None, 20)                140       \n",
      "                                                                 \n",
      " Hidden2 (Dense)             (None, 20)                420       \n",
      "                                                                 \n",
      " Hidden3 (Dense)             (None, 20)                420       \n",
      "                                                                 \n",
      " Hidden4 (Dense)             (None, 20)                420       \n",
      "                                                                 \n",
      " Hidden5 (Dense)             (None, 20)                420       \n",
      "                                                                 \n",
      " output_layer (Dense)        (None, 1)                 21        \n",
      "                                                                 \n",
      "=================================================================\n",
      "Total params: 1,841\n",
      "Trainable params: 1,841\n",
      "Non-trainable params: 0\n",
      "_________________________________________________________________\n",
      "461/461 [==============================] - 1s 1ms/step\n",
      "3.4821937960177136 66.58062783758298\n"
     ]
    }
   ],
   "source": [
    "df_features = data[features_K]\n",
    "df_target   = data[\"p\"]\n",
    "\n",
    "scaler_features = preprocessing.MinMaxScaler()\n",
    "scaler_target   = preprocessing.MinMaxScaler()\n",
    "\n",
    "df_features = pd.DataFrame(scaler_features.fit_transform(df_features),\n",
    "                          columns=features_K)\n",
    "df_target = pd.DataFrame(scaler_target.fit_transform(df_target.values.reshape(-1,1)),\n",
    "                          columns=[\"p\"])\n",
    "\n",
    "\n",
    "# Building my NN\n",
    "keras.backend.clear_session()\n",
    "\n",
    "#Ux, Uy\n",
    "input_layer = keras.layers.Input(shape=(6),name=\"input_layer\")\n",
    "\n",
    "#Hidden layers\n",
    "hidden1     = keras.layers.Dense(20,name=\"Hidden1\",kernel_initializer=\"lecun_normal\",\n",
    "                                activation=\"selu\")(input_layer)\n",
    "hidden2 = keras.layers.Dense(20,name='Hidden2', kernel_initializer=\"lecun_normal\", activation = \"selu\")(hidden1)\n",
    "hidden3 = keras.layers.Dense(20,name='Hidden3', kernel_initializer=\"lecun_normal\", activation = \"selu\")(hidden2)\n",
    "hidden4 = keras.layers.Dense(20,name='Hidden4', kernel_initializer=\"lecun_normal\", activation = \"selu\")(hidden3)\n",
    "hidden5 = keras.layers.Dense(20,name='Hidden5', kernel_initializer=\"lecun_normal\", activation = \"selu\")(hidden4)\n",
    "\n",
    "\n",
    "output_layer = keras.layers.Dense(1,name=\"output_layer\")(hidden5)\n",
    "\n",
    "model=keras.Model(inputs=[input_layer], outputs=[output_layer])\n",
    "model.summary()\n",
    "# \n",
    "optimizer = tf.keras.optimizers.Nadam(learning_rate=5e-4)\n",
    "model.compile(optimizer,loss=\"mse\",metrics=[\"mae\",\"mse\"])\n",
    "# \n",
    "history = model.fit([df_features],df_target,\n",
    "                    epochs=200,\n",
    "                    verbose= 0,\n",
    ")\n",
    "\n",
    "\n",
    "predictions = model.predict(df_features).reshape(len(df_features))\n",
    "truth = df_target['p']\n",
    "\n",
    "\n",
    "\n",
    "print(abs(predictions-truth).mean()*100, abs(predictions-truth).max()*100)\n",
    "\n"
   ]
  },
  {
   "cell_type": "code",
   "execution_count": 15,
   "id": "520ce38e",
   "metadata": {
    "scrolled": false
   },
   "outputs": [
    {
     "name": "stdout",
     "output_type": "stream",
     "text": [
      "Model: \"model\"\n",
      "_________________________________________________________________\n",
      " Layer (type)                Output Shape              Param #   \n",
      "=================================================================\n",
      " input_layer (InputLayer)    [(None, 6)]               0         \n",
      "                                                                 \n",
      " Hidden1 (Dense)             (None, 20)                140       \n",
      "                                                                 \n",
      " Hidden2 (Dense)             (None, 20)                420       \n",
      "                                                                 \n",
      " Hidden3 (Dense)             (None, 20)                420       \n",
      "                                                                 \n",
      " Hidden4 (Dense)             (None, 20)                420       \n",
      "                                                                 \n",
      " Hidden5 (Dense)             (None, 20)                420       \n",
      "                                                                 \n",
      " output_layer (Dense)        (None, 1)                 21        \n",
      "                                                                 \n",
      "=================================================================\n",
      "Total params: 1,841\n",
      "Trainable params: 1,841\n",
      "Non-trainable params: 0\n",
      "_________________________________________________________________\n",
      "461/461 [==============================] - 1s 951us/step\n",
      "3.7606743263358657 65.77529160062925\n"
     ]
    }
   ],
   "source": [
    "df_features = data[features_S]\n",
    "df_target   = data[\"p\"]\n",
    "\n",
    "scaler_features = preprocessing.MinMaxScaler()\n",
    "scaler_target   = preprocessing.MinMaxScaler()\n",
    "\n",
    "df_features = pd.DataFrame(scaler_features.fit_transform(df_features),\n",
    "                          columns=features_S)\n",
    "df_target = pd.DataFrame(scaler_target.fit_transform(df_target.values.reshape(-1,1)),\n",
    "                          columns=[\"p\"])\n",
    "\n",
    "\n",
    "# Building my NN\n",
    "keras.backend.clear_session()\n",
    "\n",
    "#Ux, Uy\n",
    "input_layer = keras.layers.Input(shape=(6),name=\"input_layer\")\n",
    "\n",
    "#Hidden layers\n",
    "hidden1     = keras.layers.Dense(20,name=\"Hidden1\",kernel_initializer=\"lecun_normal\",\n",
    "                                activation=\"selu\")(input_layer)\n",
    "hidden2 = keras.layers.Dense(20,name='Hidden2', kernel_initializer=\"lecun_normal\", activation = \"selu\")(hidden1)\n",
    "hidden3 = keras.layers.Dense(20,name='Hidden3', kernel_initializer=\"lecun_normal\", activation = \"selu\")(hidden2)\n",
    "hidden4 = keras.layers.Dense(20,name='Hidden4', kernel_initializer=\"lecun_normal\", activation = \"selu\")(hidden3)\n",
    "hidden5 = keras.layers.Dense(20,name='Hidden5', kernel_initializer=\"lecun_normal\", activation = \"selu\")(hidden4)\n",
    "\n",
    "\n",
    "output_layer = keras.layers.Dense(1,name=\"output_layer\")(hidden5)\n",
    "\n",
    "model=keras.Model(inputs=[input_layer], outputs=[output_layer])\n",
    "model.summary()\n",
    "# \n",
    "optimizer = tf.keras.optimizers.Nadam(learning_rate=5e-4)\n",
    "model.compile(optimizer,loss=\"mse\",metrics=[\"mae\",\"mse\"])\n",
    "# \n",
    "history = model.fit([df_features],df_target,\n",
    "                    epochs=200,\n",
    "                    verbose= 0,\n",
    ")\n",
    "\n",
    "\n",
    "predictions = model.predict(df_features).reshape(len(df_features))\n",
    "truth = df_target['p']\n",
    "\n",
    "\n",
    "\n",
    "print(abs(predictions-truth).mean()*100, abs(predictions-truth).max()*100)\n",
    "\n"
   ]
  },
  {
   "cell_type": "code",
   "execution_count": 16,
   "id": "b11f4ae4",
   "metadata": {
    "scrolled": false
   },
   "outputs": [
    {
     "name": "stdout",
     "output_type": "stream",
     "text": [
      "Model: \"model\"\n",
      "_________________________________________________________________\n",
      " Layer (type)                Output Shape              Param #   \n",
      "=================================================================\n",
      " input_layer (InputLayer)    [(None, 20)]              0         \n",
      "                                                                 \n",
      " Hidden1 (Dense)             (None, 20)                420       \n",
      "                                                                 \n",
      " Hidden2 (Dense)             (None, 20)                420       \n",
      "                                                                 \n",
      " Hidden3 (Dense)             (None, 20)                420       \n",
      "                                                                 \n",
      " Hidden4 (Dense)             (None, 20)                420       \n",
      "                                                                 \n",
      " Hidden5 (Dense)             (None, 20)                420       \n",
      "                                                                 \n",
      " output_layer (Dense)        (None, 1)                 21        \n",
      "                                                                 \n",
      "=================================================================\n",
      "Total params: 2,121\n",
      "Trainable params: 2,121\n",
      "Non-trainable params: 0\n",
      "_________________________________________________________________\n",
      "461/461 [==============================] - 1s 1ms/step\n",
      "0.39919450552879804 18.242378806291594\n"
     ]
    }
   ],
   "source": [
    "df_features = data[features_P20]\n",
    "df_target   = data[\"p\"]\n",
    "\n",
    "scaler_features = preprocessing.MinMaxScaler()\n",
    "scaler_target   = preprocessing.MinMaxScaler()\n",
    "\n",
    "df_features = pd.DataFrame(scaler_features.fit_transform(df_features),\n",
    "                          columns=features_P20)\n",
    "df_target = pd.DataFrame(scaler_target.fit_transform(df_target.values.reshape(-1,1)),\n",
    "                          columns=[\"p\"])\n",
    "\n",
    "\n",
    "# Building my NN\n",
    "keras.backend.clear_session()\n",
    "\n",
    "#Ux, Uy\n",
    "input_layer = keras.layers.Input(shape=(20),name=\"input_layer\")\n",
    "\n",
    "#Hidden layers\n",
    "hidden1     = keras.layers.Dense(20,name=\"Hidden1\",kernel_initializer=\"lecun_normal\",\n",
    "                                activation=\"selu\")(input_layer)\n",
    "hidden2 = keras.layers.Dense(20,name='Hidden2', kernel_initializer=\"lecun_normal\", activation = \"selu\")(hidden1)\n",
    "hidden3 = keras.layers.Dense(20,name='Hidden3', kernel_initializer=\"lecun_normal\", activation = \"selu\")(hidden2)\n",
    "hidden4 = keras.layers.Dense(20,name='Hidden4', kernel_initializer=\"lecun_normal\", activation = \"selu\")(hidden3)\n",
    "hidden5 = keras.layers.Dense(20,name='Hidden5', kernel_initializer=\"lecun_normal\", activation = \"selu\")(hidden4)\n",
    "\n",
    "\n",
    "output_layer = keras.layers.Dense(1,name=\"output_layer\")(hidden5)\n",
    "\n",
    "model=keras.Model(inputs=[input_layer], outputs=[output_layer])\n",
    "model.summary()\n",
    "# \n",
    "optimizer = tf.keras.optimizers.Nadam(learning_rate=5e-4)\n",
    "model.compile(optimizer,loss=\"mse\",metrics=[\"mae\",\"mse\"])\n",
    "# \n",
    "history = model.fit([df_features],df_target,\n",
    "                    epochs=200,\n",
    "                    verbose= 0,\n",
    ")\n",
    "\n",
    "\n",
    "predictions = model.predict(df_features).reshape(len(df_features))\n",
    "truth = df_target['p']\n",
    "\n",
    "\n",
    "\n",
    "print(abs(predictions-truth).mean()*100, abs(predictions-truth).max()*100)\n",
    "\n"
   ]
  },
  {
   "cell_type": "code",
   "execution_count": null,
   "id": "d347c993",
   "metadata": {},
   "outputs": [],
   "source": []
  }
 ],
 "metadata": {
  "kernelspec": {
   "display_name": "Python 3 (ipykernel)",
   "language": "python",
   "name": "python3"
  },
  "language_info": {
   "codemirror_mode": {
    "name": "ipython",
    "version": 3
   },
   "file_extension": ".py",
   "mimetype": "text/x-python",
   "name": "python",
   "nbconvert_exporter": "python",
   "pygments_lexer": "ipython3",
   "version": "3.9.6"
  }
 },
 "nbformat": 4,
 "nbformat_minor": 5
}
